{
 "cells": [
  {
   "cell_type": "code",
   "execution_count": 2,
   "outputs": [],
   "source": [
    "import pandas as pd"
   ],
   "metadata": {
    "collapsed": false
   }
  },
  {
   "cell_type": "code",
   "execution_count": 6,
   "outputs": [],
   "source": [
    "employee_df = pd.read_csv('data/MOCK_DATA.csv')"
   ],
   "metadata": {
    "collapsed": false
   }
  },
  {
   "cell_type": "code",
   "execution_count": 7,
   "outputs": [
    {
     "data": {
      "text/plain": "       id         employee_name     module_1     module_2     module_3  \\\n0       1        Dael Iacobacci  not_started  in_progress  not_started   \n1       2      Amelie Stockdale     complete  not_started     complete   \n2       3         Bibby Crayton     complete     complete     complete   \n3       4        Bronny Gerlack  in_progress  not_started     complete   \n4       5       Annette Cumbers  in_progress  not_started     complete   \n..    ...                   ...          ...          ...          ...   \n995   996  Brunhilde Ditchfield     complete  not_started  in_progress   \n996   997         Jolene Turner     complete     complete  not_started   \n997   998           Claude Dami  not_started     complete  in_progress   \n998   999       Jessika Petkens  not_started     complete     complete   \n999  1000       Breena Pethrick  in_progress     complete     complete   \n\n        module_4     module_5     module_6     module_7     module_8  \\\n0       complete  in_progress  in_progress  in_progress     complete   \n1       complete  not_started  in_progress  in_progress  in_progress   \n2    in_progress     complete     complete  not_started  in_progress   \n3    not_started  not_started  in_progress  in_progress  in_progress   \n4    in_progress  not_started     complete  in_progress  not_started   \n..           ...          ...          ...          ...          ...   \n995  in_progress  not_started  in_progress  in_progress  not_started   \n996  in_progress  in_progress  in_progress  not_started  not_started   \n997  not_started  in_progress  in_progress  not_started     complete   \n998     complete  in_progress  in_progress  in_progress  in_progress   \n999  in_progress  not_started  in_progress  in_progress  not_started   \n\n        module_9    module_10  \n0    in_progress  not_started  \n1       complete  in_progress  \n2       complete  in_progress  \n3       complete  in_progress  \n4    not_started  in_progress  \n..           ...          ...  \n995  not_started  in_progress  \n996  not_started  not_started  \n997  not_started     complete  \n998  in_progress  not_started  \n999     complete     complete  \n\n[1000 rows x 12 columns]",
      "text/html": "<div>\n<style scoped>\n    .dataframe tbody tr th:only-of-type {\n        vertical-align: middle;\n    }\n\n    .dataframe tbody tr th {\n        vertical-align: top;\n    }\n\n    .dataframe thead th {\n        text-align: right;\n    }\n</style>\n<table border=\"1\" class=\"dataframe\">\n  <thead>\n    <tr style=\"text-align: right;\">\n      <th></th>\n      <th>id</th>\n      <th>employee_name</th>\n      <th>module_1</th>\n      <th>module_2</th>\n      <th>module_3</th>\n      <th>module_4</th>\n      <th>module_5</th>\n      <th>module_6</th>\n      <th>module_7</th>\n      <th>module_8</th>\n      <th>module_9</th>\n      <th>module_10</th>\n    </tr>\n  </thead>\n  <tbody>\n    <tr>\n      <th>0</th>\n      <td>1</td>\n      <td>Dael Iacobacci</td>\n      <td>not_started</td>\n      <td>in_progress</td>\n      <td>not_started</td>\n      <td>complete</td>\n      <td>in_progress</td>\n      <td>in_progress</td>\n      <td>in_progress</td>\n      <td>complete</td>\n      <td>in_progress</td>\n      <td>not_started</td>\n    </tr>\n    <tr>\n      <th>1</th>\n      <td>2</td>\n      <td>Amelie Stockdale</td>\n      <td>complete</td>\n      <td>not_started</td>\n      <td>complete</td>\n      <td>complete</td>\n      <td>not_started</td>\n      <td>in_progress</td>\n      <td>in_progress</td>\n      <td>in_progress</td>\n      <td>complete</td>\n      <td>in_progress</td>\n    </tr>\n    <tr>\n      <th>2</th>\n      <td>3</td>\n      <td>Bibby Crayton</td>\n      <td>complete</td>\n      <td>complete</td>\n      <td>complete</td>\n      <td>in_progress</td>\n      <td>complete</td>\n      <td>complete</td>\n      <td>not_started</td>\n      <td>in_progress</td>\n      <td>complete</td>\n      <td>in_progress</td>\n    </tr>\n    <tr>\n      <th>3</th>\n      <td>4</td>\n      <td>Bronny Gerlack</td>\n      <td>in_progress</td>\n      <td>not_started</td>\n      <td>complete</td>\n      <td>not_started</td>\n      <td>not_started</td>\n      <td>in_progress</td>\n      <td>in_progress</td>\n      <td>in_progress</td>\n      <td>complete</td>\n      <td>in_progress</td>\n    </tr>\n    <tr>\n      <th>4</th>\n      <td>5</td>\n      <td>Annette Cumbers</td>\n      <td>in_progress</td>\n      <td>not_started</td>\n      <td>complete</td>\n      <td>in_progress</td>\n      <td>not_started</td>\n      <td>complete</td>\n      <td>in_progress</td>\n      <td>not_started</td>\n      <td>not_started</td>\n      <td>in_progress</td>\n    </tr>\n    <tr>\n      <th>...</th>\n      <td>...</td>\n      <td>...</td>\n      <td>...</td>\n      <td>...</td>\n      <td>...</td>\n      <td>...</td>\n      <td>...</td>\n      <td>...</td>\n      <td>...</td>\n      <td>...</td>\n      <td>...</td>\n      <td>...</td>\n    </tr>\n    <tr>\n      <th>995</th>\n      <td>996</td>\n      <td>Brunhilde Ditchfield</td>\n      <td>complete</td>\n      <td>not_started</td>\n      <td>in_progress</td>\n      <td>in_progress</td>\n      <td>not_started</td>\n      <td>in_progress</td>\n      <td>in_progress</td>\n      <td>not_started</td>\n      <td>not_started</td>\n      <td>in_progress</td>\n    </tr>\n    <tr>\n      <th>996</th>\n      <td>997</td>\n      <td>Jolene Turner</td>\n      <td>complete</td>\n      <td>complete</td>\n      <td>not_started</td>\n      <td>in_progress</td>\n      <td>in_progress</td>\n      <td>in_progress</td>\n      <td>not_started</td>\n      <td>not_started</td>\n      <td>not_started</td>\n      <td>not_started</td>\n    </tr>\n    <tr>\n      <th>997</th>\n      <td>998</td>\n      <td>Claude Dami</td>\n      <td>not_started</td>\n      <td>complete</td>\n      <td>in_progress</td>\n      <td>not_started</td>\n      <td>in_progress</td>\n      <td>in_progress</td>\n      <td>not_started</td>\n      <td>complete</td>\n      <td>not_started</td>\n      <td>complete</td>\n    </tr>\n    <tr>\n      <th>998</th>\n      <td>999</td>\n      <td>Jessika Petkens</td>\n      <td>not_started</td>\n      <td>complete</td>\n      <td>complete</td>\n      <td>complete</td>\n      <td>in_progress</td>\n      <td>in_progress</td>\n      <td>in_progress</td>\n      <td>in_progress</td>\n      <td>in_progress</td>\n      <td>not_started</td>\n    </tr>\n    <tr>\n      <th>999</th>\n      <td>1000</td>\n      <td>Breena Pethrick</td>\n      <td>in_progress</td>\n      <td>complete</td>\n      <td>complete</td>\n      <td>in_progress</td>\n      <td>not_started</td>\n      <td>in_progress</td>\n      <td>in_progress</td>\n      <td>not_started</td>\n      <td>complete</td>\n      <td>complete</td>\n    </tr>\n  </tbody>\n</table>\n<p>1000 rows × 12 columns</p>\n</div>"
     },
     "execution_count": 7,
     "metadata": {},
     "output_type": "execute_result"
    }
   ],
   "source": [
    "employee_df"
   ],
   "metadata": {
    "collapsed": false
   }
  },
  {
   "cell_type": "code",
   "execution_count": 8,
   "outputs": [],
   "source": [
    "# Calculate completion rates for each module\n",
    "module_completion = employee_df.apply(lambda x: x.value_counts(normalize=True)).T\n",
    "\n",
    "# Calculate engagement score based on time taken to complete each module\n",
    "time_taken = employee_df.apply(lambda x: sum(x == \"complete\"), axis=0)\n",
    "engagement_score = (1 / time_taken).mean()\n",
    "\n",
    "# Calculate feedback score\n",
    "feedback_score = 4.5 # Assuming a fixed feedback score for this example"
   ],
   "metadata": {
    "collapsed": false
   }
  },
  {
   "cell_type": "code",
   "execution_count": 10,
   "outputs": [
    {
     "data": {
      "text/plain": "id                 0\nemployee_name      0\nmodule_1         333\nmodule_2         315\nmodule_3         333\nmodule_4         353\nmodule_5         333\nmodule_6         338\nmodule_7         328\nmodule_8         327\nmodule_9         325\nmodule_10        324\ndtype: int64"
     },
     "execution_count": 10,
     "metadata": {},
     "output_type": "execute_result"
    }
   ],
   "source": [
    "time_taken"
   ],
   "metadata": {
    "collapsed": false
   }
  }
 ],
 "metadata": {
  "kernelspec": {
   "display_name": "Python 3 (ipykernel)",
   "language": "python",
   "name": "python3"
  },
  "language_info": {
   "codemirror_mode": {
    "name": "ipython",
    "version": 2
   },
   "file_extension": ".py",
   "mimetype": "text/x-python",
   "name": "python",
   "nbconvert_exporter": "python",
   "pygments_lexer": "ipython2",
   "version": "2.7.6"
  }
 },
 "nbformat": 4,
 "nbformat_minor": 1
}
